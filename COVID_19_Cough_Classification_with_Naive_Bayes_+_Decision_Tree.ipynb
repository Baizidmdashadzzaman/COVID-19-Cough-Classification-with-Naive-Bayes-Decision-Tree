{
  "nbformat": 4,
  "nbformat_minor": 0,
  "metadata": {
    "colab": {
      "provenance": []
    },
    "kernelspec": {
      "name": "python3",
      "display_name": "Python 3"
    },
    "language_info": {
      "name": "python"
    }
  },
  "cells": [
    {
      "cell_type": "code",
      "execution_count": 13,
      "metadata": {
        "colab": {
          "base_uri": "https://localhost:8080/"
        },
        "id": "25SiBPLkXdw4",
        "outputId": "41821901-16b1-40ca-8660-76b3a0842100"
      },
      "outputs": [
        {
          "output_type": "stream",
          "name": "stdout",
          "text": [
            "Drive already mounted at /content/drive; to attempt to forcibly remount, call drive.mount(\"/content/drive\", force_remount=True).\n"
          ]
        }
      ],
      "source": [
        "from google.colab import drive\n",
        "drive.mount('/content/drive')"
      ]
    },
    {
      "cell_type": "code",
      "source": [
        "import IPython.display as ipd\n",
        "import os\n",
        "import pandas as pd\n",
        "import librosa\n",
        "import glob\n",
        "import librosa.display\n",
        "import random\n",
        "from sklearn.metrics import accuracy_score\n",
        "from collections import Counter\n",
        "from sklearn.preprocessing import StandardScaler\n",
        "from sklearn.model_selection import train_test_split\n",
        "import numpy as np\n",
        "from sklearn import metrics\n",
        "from sklearn.datasets import make_regression\n",
        "\n",
        "from sklearn.naive_bayes import GaussianNB # Gaussian Naive Bayes classifier\n",
        "from sklearn.tree import DecisionTreeClassifier # Decision Tree classifier\n",
        "\n",
        "from sklearn.preprocessing import LabelEncoder\n",
        "import os"
      ],
      "metadata": {
        "id": "EM2z8d3HX2os"
      },
      "execution_count": 14,
      "outputs": []
    },
    {
      "cell_type": "code",
      "source": [
        "X=np.load('/content/drive/My Drive/Colab Notebooks/COVID-19_Cambridge/cough_X_features_np.npy')\n",
        "y=np.load('/content/drive/My Drive/Colab Notebooks/COVID-19_Cambridge/cough_y_features_np.npy')\n"
      ],
      "metadata": {
        "id": "VVeMmWCBX_fv"
      },
      "execution_count": 15,
      "outputs": []
    },
    {
      "cell_type": "code",
      "source": [
        "label_to_id = {v:i for i,v in enumerate(np.unique(y))}\n",
        "id_to_label = {v: k for k, v in label_to_id.items()}\n",
        "y = np.array([label_to_id[x] for x in y])\n",
        "\n",
        "print(X.shape)\n",
        "print(X)"
      ],
      "metadata": {
        "colab": {
          "base_uri": "https://localhost:8080/"
        },
        "id": "IYcIZMLwYRKG",
        "outputId": "d8c95805-97eb-457e-8181-092565af4793"
      },
      "execution_count": 16,
      "outputs": [
        {
          "output_type": "stream",
          "name": "stdout",
          "text": [
            "(491, 193)\n",
            "[[ 0.7774016  -0.05425863 -0.35144269 ... -0.45218576 -0.4370232\n",
            "  -0.01711512]\n",
            " [ 0.1183541   1.53359858  1.24225704 ... -2.63982721  2.47782474\n",
            "  -1.15077773]\n",
            " [-0.53119257 -0.28284258  1.12038083 ...  0.34872249  0.55396523\n",
            "  -0.16494817]\n",
            " ...\n",
            " [-0.20516431 -0.85620505  0.49701437 ...  0.42735503 -0.82097128\n",
            "  -0.06913244]\n",
            " [-5.96008284 -0.36423584  1.28397571 ... -0.18995576  0.10417283\n",
            "   0.35501649]\n",
            " [ 0.83925686 -0.8045509  -0.27055277 ... -2.00814413 -2.31079533\n",
            "  -0.94496466]]\n"
          ]
        }
      ]
    },
    {
      "cell_type": "code",
      "source": [
        "X_train, X_test, y_train, y_test = train_test_split(X, y, test_size=0.2, random_state=42)\n",
        "\n",
        "scaler = StandardScaler()\n",
        "X_train_scaled = scaler.fit_transform(X_train)\n",
        "X_test_scaled = scaler.transform(X_test)"
      ],
      "metadata": {
        "id": "9n1Qh-jKZGlN"
      },
      "execution_count": 17,
      "outputs": []
    },
    {
      "cell_type": "code",
      "source": [
        "# --- Naive Bayes Classifier Implementation ---\n",
        "print(\"\\n--- Naive Bayes Classifier ---\")\n",
        "nb_model = GaussianNB()\n",
        "nb_model.fit(X_train_scaled, y_train)\n",
        "\n",
        "nb_y_pred = nb_model.predict(X_test_scaled)\n",
        "\n",
        "nb_accuracy = accuracy_score(y_test, nb_y_pred)\n",
        "print(f\"Accuracy of the Naive Bayes classifier: {nb_accuracy}\")\n"
      ],
      "metadata": {
        "colab": {
          "base_uri": "https://localhost:8080/"
        },
        "id": "u-5YszDOYU6s",
        "outputId": "72776615-b767-4aea-834b-839aac3b554a"
      },
      "execution_count": 18,
      "outputs": [
        {
          "output_type": "stream",
          "name": "stdout",
          "text": [
            "\n",
            "--- Naive Bayes Classifier ---\n",
            "Accuracy of the Naive Bayes classifier: 0.5252525252525253\n"
          ]
        }
      ]
    },
    {
      "cell_type": "code",
      "source": [
        "# --- Decision Tree Classifier Implementation ---\n",
        "print(\"\\n--- Decision Tree Classifier ---\")\n",
        "dt_model = DecisionTreeClassifier(random_state=42)\n",
        "dt_model.fit(X_train_scaled, y_train)\n",
        "\n",
        "dt_y_pred = dt_model.predict(X_test_scaled)\n",
        "\n",
        "dt_accuracy = accuracy_score(y_test, dt_y_pred)\n",
        "print(f\"Accuracy of the Decision Tree classifier: {dt_accuracy}\")"
      ],
      "metadata": {
        "colab": {
          "base_uri": "https://localhost:8080/"
        },
        "id": "ZmIQQtoUZTvr",
        "outputId": "b050f145-1acb-419c-c0c1-d26178cda702"
      },
      "execution_count": 19,
      "outputs": [
        {
          "output_type": "stream",
          "name": "stdout",
          "text": [
            "\n",
            "--- Decision Tree Classifier ---\n",
            "Accuracy of the Decision Tree classifier: 0.6767676767676768\n"
          ]
        }
      ]
    }
  ]
}